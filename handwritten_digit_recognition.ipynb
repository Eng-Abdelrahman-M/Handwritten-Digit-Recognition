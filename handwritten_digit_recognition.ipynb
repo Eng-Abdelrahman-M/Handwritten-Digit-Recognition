{
  "nbformat": 4,
  "nbformat_minor": 0,
  "metadata": {
    "colab": {
      "name": "handwritten_digit_recognition_CPU.ipynb",
      "version": "0.3.2",
      "provenance": [],
      "collapsed_sections": []
    },
    "kernelspec": {
      "name": "python3",
      "display_name": "Python 3"
    }
  },
  "cells": [
    {
      "metadata": {
        "id": "MHvuWIUHdIpt",
        "colab_type": "text"
      },
      "cell_type": "markdown",
      "source": [
        "# Handwritten Digit Recognition\n",
        "- Author = Abdelrahman Mohamed\n",
        "- Dataset = MNIST\n",
        "- [Article Link](https://blog.machinfy.com/wp-admin/post.php?post=311)\n",
        "- Frameworks = PyTorch"
      ]
    },
    {
      "metadata": {
        "id": "oGjRmijsaXJ3",
        "colab_type": "text"
      },
      "cell_type": "markdown",
      "source": [
        "### Necessary Imports"
      ]
    },
    {
      "metadata": {
        "id": "TOyGrPT5ASDc",
        "colab_type": "code",
        "colab": {}
      },
      "cell_type": "code",
      "source": [
        "#Scientific computing \n",
        "import numpy as np\n",
        "\n",
        "#Pytorch packages\n",
        "import torch\n",
        "from torch import nn\n",
        "import torch.optim as optim\n",
        "import torchvision\n",
        "\n",
        "#Visulization\n",
        "import matplotlib.pyplot as plt\n",
        "\n",
        "#Others\n",
        "import time\n",
        "import copy"
      ],
      "execution_count": 1,
      "outputs": []
    },
    {
      "metadata": {
        "id": "uLdtrS4zaeEs",
        "colab_type": "text"
      },
      "cell_type": "markdown",
      "source": [
        "### Download The Dataset & Define The Transforms"
      ]
    },
    {
      "metadata": {
        "id": "sZD2NGz2Ak6w",
        "colab_type": "code",
        "colab": {
          "base_uri": "https://localhost:8080/",
          "height": 119
        },
        "outputId": "74eec0da-d867-406b-be2c-4013a2162bf1"
      },
      "cell_type": "code",
      "source": [
        "### Run this cell\n",
        "\n",
        "from torchvision import datasets, transforms\n",
        "\n",
        "# Define a transform to normalize the data\n",
        "transform = transforms.Compose([transforms.ToTensor(),\n",
        "                              transforms.Normalize((0.5,), (0.5,)),\n",
        "                              ])\n",
        "\n",
        "# Download and load the training data\n",
        "trainset = datasets.MNIST('data/', download=True, train=True, transform=transform)\n",
        "valset = datasets.MNIST('data/', download=True, train=False, transform=transform)\n",
        "\n",
        "trainloader = torch.utils.data.DataLoader(trainset, batch_size=64, shuffle=True)\n",
        "valloader = torch.utils.data.DataLoader(valset, batch_size=64, shuffle=True)\n",
        "\n",
        "class_names = trainset.classes\n",
        "dataset_sizes = {'train':len(trainset), 'val':len(valset)}\n",
        "dataloaders  = {'train':trainloader, 'val':valloader}\n",
        "device = torch.device(\"cuda:0\" if torch.cuda.is_available() else \"cpu\")"
      ],
      "execution_count": 2,
      "outputs": []
    },
    {
      "metadata": {
        "id": "GcAfrn2falkK",
        "colab_type": "text"
      },
      "cell_type": "markdown",
      "source": [
        "### Exploring The Data"
      ]
    },
    {
      "metadata": {
        "id": "xOjlOyjcCezX",
        "colab_type": "code",
        "outputId": "fde25724-ea30-46f6-cf0f-4a7807c2ee0e",
        "colab": {
          "base_uri": "https://localhost:8080/",
          "height": 68
        }
      },
      "cell_type": "code",
      "source": [
        "dataiter = iter(trainloader)\n",
        "images, labels = dataiter.next()\n",
        "print(type(images))\n",
        "print(images.shape)\n",
        "print(labels.shape)"
      ],
      "execution_count": 3,
      "outputs": [
        {
          "output_type": "stream",
          "name": "stdout",
          "text": [
            "<class 'torch.Tensor'>\ntorch.Size([64, 1, 28, 28])\ntorch.Size([64])\n"
          ]
        }
      ]
    },
    {
      "metadata": {
        "id": "EuBvOWmGDHOq",
        "colab_type": "code",
        "outputId": "127e0264-be67-4f12-b03f-dac28b7280af",
        "colab": {
          "base_uri": "https://localhost:8080/",
          "height": 265
        }
      },
      "cell_type": "code",
      "source": [
        "plt.imshow(images[0].numpy().squeeze(), cmap='gray_r');"
      ],
      "execution_count": 4,
      "outputs": [
        {
          "output_type": "display_data",
          "data": {
            "text/plain": "<Figure size 432x288 with 1 Axes>",
            "image/svg+xml": "<?xml version=\"1.0\" encoding=\"utf-8\" standalone=\"no\"?>\r\n<!DOCTYPE svg PUBLIC \"-//W3C//DTD SVG 1.1//EN\"\r\n  \"http://www.w3.org/Graphics/SVG/1.1/DTD/svg11.dtd\">\r\n<!-- Created with matplotlib (https://matplotlib.org/) -->\r\n<svg height=\"248.518125pt\" version=\"1.1\" viewBox=\"0 0 251.565 248.518125\" width=\"251.565pt\" xmlns=\"http://www.w3.org/2000/svg\" xmlns:xlink=\"http://www.w3.org/1999/xlink\">\r\n <metadata>\r\n  <rdf:RDF xmlns:cc=\"http://creativecommons.org/ns#\" xmlns:dc=\"http://purl.org/dc/elements/1.1/\" xmlns:rdf=\"http://www.w3.org/1999/02/22-rdf-syntax-ns#\">\r\n   <cc:Work>\r\n    <dc:type rdf:resource=\"http://purl.org/dc/dcmitype/StillImage\"/>\r\n    <dc:date>2020-11-22T19:59:38.277147</dc:date>\r\n    <dc:format>image/svg+xml</dc:format>\r\n    <dc:creator>\r\n     <cc:Agent>\r\n      <dc:title>Matplotlib v3.3.1, https://matplotlib.org/</dc:title>\r\n     </cc:Agent>\r\n    </dc:creator>\r\n   </cc:Work>\r\n  </rdf:RDF>\r\n </metadata>\r\n <defs>\r\n  <style type=\"text/css\">*{stroke-linecap:butt;stroke-linejoin:round;}</style>\r\n </defs>\r\n <g id=\"figure_1\">\r\n  <g id=\"patch_1\">\r\n   <path d=\"M 0 248.518125 \r\nL 251.565 248.518125 \r\nL 251.565 0 \r\nL 0 0 \r\nz\r\n\" style=\"fill:none;\"/>\r\n  </g>\r\n  <g id=\"axes_1\">\r\n   <g id=\"patch_2\">\r\n    <path d=\"M 26.925 224.64 \r\nL 244.365 224.64 \r\nL 244.365 7.2 \r\nL 26.925 7.2 \r\nz\r\n\" style=\"fill:#ffffff;\"/>\r\n   </g>\r\n   <g clip-path=\"url(#pe519f6afe1)\">\r\n    <image height=\"218\" id=\"imagebe06d9ab27\" transform=\"scale(1 -1)translate(0 -218)\" width=\"218\" x=\"26.925\" xlink:href=\"data:image/png;base64,\r\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\" y=\"-6.64\"/>\r\n   </g>\r\n   <g id=\"matplotlib.axis_1\">\r\n    <g id=\"xtick_1\">\r\n     <g id=\"line2d_1\">\r\n      <defs>\r\n       <path d=\"M 0 0 \r\nL 0 3.5 \r\n\" id=\"m2a05b33006\" style=\"stroke:#000000;stroke-width:0.8;\"/>\r\n      </defs>\r\n      <g>\r\n       <use style=\"stroke:#000000;stroke-width:0.8;\" x=\"30.807857\" xlink:href=\"#m2a05b33006\" y=\"224.64\"/>\r\n      </g>\r\n     </g>\r\n     <g id=\"text_1\">\r\n      <!-- 0 -->\r\n      <g transform=\"translate(27.626607 239.238437)scale(0.1 -0.1)\">\r\n       <defs>\r\n        <path d=\"M 31.78125 66.40625 \r\nQ 24.171875 66.40625 20.328125 58.90625 \r\nQ 16.5 51.421875 16.5 36.375 \r\nQ 16.5 21.390625 20.328125 13.890625 \r\nQ 24.171875 6.390625 31.78125 6.390625 \r\nQ 39.453125 6.390625 43.28125 13.890625 \r\nQ 47.125 21.390625 47.125 36.375 \r\nQ 47.125 51.421875 43.28125 58.90625 \r\nQ 39.453125 66.40625 31.78125 66.40625 \r\nz\r\nM 31.78125 74.21875 \r\nQ 44.046875 74.21875 50.515625 64.515625 \r\nQ 56.984375 54.828125 56.984375 36.375 \r\nQ 56.984375 17.96875 50.515625 8.265625 \r\nQ 44.046875 -1.421875 31.78125 -1.421875 \r\nQ 19.53125 -1.421875 13.0625 8.265625 \r\nQ 6.59375 17.96875 6.59375 36.375 \r\nQ 6.59375 54.828125 13.0625 64.515625 \r\nQ 19.53125 74.21875 31.78125 74.21875 \r\nz\r\n\" id=\"DejaVuSans-48\"/>\r\n       </defs>\r\n       <use xlink:href=\"#DejaVuSans-48\"/>\r\n      </g>\r\n     </g>\r\n    </g>\r\n    <g id=\"xtick_2\">\r\n     <g id=\"line2d_2\">\r\n      <g>\r\n       <use style=\"stroke:#000000;stroke-width:0.8;\" x=\"69.636429\" xlink:href=\"#m2a05b33006\" y=\"224.64\"/>\r\n      </g>\r\n     </g>\r\n     <g id=\"text_2\">\r\n      <!-- 5 -->\r\n      <g transform=\"translate(66.455179 239.238437)scale(0.1 -0.1)\">\r\n       <defs>\r\n        <path d=\"M 10.796875 72.90625 \r\nL 49.515625 72.90625 \r\nL 49.515625 64.59375 \r\nL 19.828125 64.59375 \r\nL 19.828125 46.734375 \r\nQ 21.96875 47.46875 24.109375 47.828125 \r\nQ 26.265625 48.1875 28.421875 48.1875 \r\nQ 40.625 48.1875 47.75 41.5 \r\nQ 54.890625 34.8125 54.890625 23.390625 \r\nQ 54.890625 11.625 47.5625 5.09375 \r\nQ 40.234375 -1.421875 26.90625 -1.421875 \r\nQ 22.3125 -1.421875 17.546875 -0.640625 \r\nQ 12.796875 0.140625 7.71875 1.703125 \r\nL 7.71875 11.625 \r\nQ 12.109375 9.234375 16.796875 8.0625 \r\nQ 21.484375 6.890625 26.703125 6.890625 \r\nQ 35.15625 6.890625 40.078125 11.328125 \r\nQ 45.015625 15.765625 45.015625 23.390625 \r\nQ 45.015625 31 40.078125 35.4375 \r\nQ 35.15625 39.890625 26.703125 39.890625 \r\nQ 22.75 39.890625 18.8125 39.015625 \r\nQ 14.890625 38.140625 10.796875 36.28125 \r\nz\r\n\" id=\"DejaVuSans-53\"/>\r\n       </defs>\r\n       <use xlink:href=\"#DejaVuSans-53\"/>\r\n      </g>\r\n     </g>\r\n    </g>\r\n    <g id=\"xtick_3\">\r\n     <g id=\"line2d_3\">\r\n      <g>\r\n       <use style=\"stroke:#000000;stroke-width:0.8;\" x=\"108.465\" xlink:href=\"#m2a05b33006\" y=\"224.64\"/>\r\n      </g>\r\n     </g>\r\n     <g id=\"text_3\">\r\n      <!-- 10 -->\r\n      <g transform=\"translate(102.1025 239.238437)scale(0.1 -0.1)\">\r\n       <defs>\r\n        <path d=\"M 12.40625 8.296875 \r\nL 28.515625 8.296875 \r\nL 28.515625 63.921875 \r\nL 10.984375 60.40625 \r\nL 10.984375 69.390625 \r\nL 28.421875 72.90625 \r\nL 38.28125 72.90625 \r\nL 38.28125 8.296875 \r\nL 54.390625 8.296875 \r\nL 54.390625 0 \r\nL 12.40625 0 \r\nz\r\n\" id=\"DejaVuSans-49\"/>\r\n       </defs>\r\n       <use xlink:href=\"#DejaVuSans-49\"/>\r\n       <use x=\"63.623047\" xlink:href=\"#DejaVuSans-48\"/>\r\n      </g>\r\n     </g>\r\n    </g>\r\n    <g id=\"xtick_4\">\r\n     <g id=\"line2d_4\">\r\n      <g>\r\n       <use style=\"stroke:#000000;stroke-width:0.8;\" x=\"147.293571\" xlink:href=\"#m2a05b33006\" y=\"224.64\"/>\r\n      </g>\r\n     </g>\r\n     <g id=\"text_4\">\r\n      <!-- 15 -->\r\n      <g transform=\"translate(140.931071 239.238437)scale(0.1 -0.1)\">\r\n       <use xlink:href=\"#DejaVuSans-49\"/>\r\n       <use x=\"63.623047\" xlink:href=\"#DejaVuSans-53\"/>\r\n      </g>\r\n     </g>\r\n    </g>\r\n    <g id=\"xtick_5\">\r\n     <g id=\"line2d_5\">\r\n      <g>\r\n       <use style=\"stroke:#000000;stroke-width:0.8;\" x=\"186.122143\" xlink:href=\"#m2a05b33006\" y=\"224.64\"/>\r\n      </g>\r\n     </g>\r\n     <g id=\"text_5\">\r\n      <!-- 20 -->\r\n      <g transform=\"translate(179.759643 239.238437)scale(0.1 -0.1)\">\r\n       <defs>\r\n        <path d=\"M 19.1875 8.296875 \r\nL 53.609375 8.296875 \r\nL 53.609375 0 \r\nL 7.328125 0 \r\nL 7.328125 8.296875 \r\nQ 12.9375 14.109375 22.625 23.890625 \r\nQ 32.328125 33.6875 34.8125 36.53125 \r\nQ 39.546875 41.84375 41.421875 45.53125 \r\nQ 43.3125 49.21875 43.3125 52.78125 \r\nQ 43.3125 58.59375 39.234375 62.25 \r\nQ 35.15625 65.921875 28.609375 65.921875 \r\nQ 23.96875 65.921875 18.8125 64.3125 \r\nQ 13.671875 62.703125 7.8125 59.421875 \r\nL 7.8125 69.390625 \r\nQ 13.765625 71.78125 18.9375 73 \r\nQ 24.125 74.21875 28.421875 74.21875 \r\nQ 39.75 74.21875 46.484375 68.546875 \r\nQ 53.21875 62.890625 53.21875 53.421875 \r\nQ 53.21875 48.921875 51.53125 44.890625 \r\nQ 49.859375 40.875 45.40625 35.40625 \r\nQ 44.1875 33.984375 37.640625 27.21875 \r\nQ 31.109375 20.453125 19.1875 8.296875 \r\nz\r\n\" id=\"DejaVuSans-50\"/>\r\n       </defs>\r\n       <use xlink:href=\"#DejaVuSans-50\"/>\r\n       <use x=\"63.623047\" xlink:href=\"#DejaVuSans-48\"/>\r\n      </g>\r\n     </g>\r\n    </g>\r\n    <g id=\"xtick_6\">\r\n     <g id=\"line2d_6\">\r\n      <g>\r\n       <use style=\"stroke:#000000;stroke-width:0.8;\" x=\"224.950714\" xlink:href=\"#m2a05b33006\" y=\"224.64\"/>\r\n      </g>\r\n     </g>\r\n     <g id=\"text_6\">\r\n      <!-- 25 -->\r\n      <g transform=\"translate(218.588214 239.238437)scale(0.1 -0.1)\">\r\n       <use xlink:href=\"#DejaVuSans-50\"/>\r\n       <use x=\"63.623047\" xlink:href=\"#DejaVuSans-53\"/>\r\n      </g>\r\n     </g>\r\n    </g>\r\n   </g>\r\n   <g id=\"matplotlib.axis_2\">\r\n    <g id=\"ytick_1\">\r\n     <g id=\"line2d_7\">\r\n      <defs>\r\n       <path d=\"M 0 0 \r\nL -3.5 0 \r\n\" id=\"m9ff7a21d95\" style=\"stroke:#000000;stroke-width:0.8;\"/>\r\n      </defs>\r\n      <g>\r\n       <use style=\"stroke:#000000;stroke-width:0.8;\" x=\"26.925\" xlink:href=\"#m9ff7a21d95\" y=\"11.082857\"/>\r\n      </g>\r\n     </g>\r\n     <g id=\"text_7\">\r\n      <!-- 0 -->\r\n      <g transform=\"translate(13.5625 14.882076)scale(0.1 -0.1)\">\r\n       <use xlink:href=\"#DejaVuSans-48\"/>\r\n      </g>\r\n     </g>\r\n    </g>\r\n    <g id=\"ytick_2\">\r\n     <g id=\"line2d_8\">\r\n      <g>\r\n       <use style=\"stroke:#000000;stroke-width:0.8;\" x=\"26.925\" xlink:href=\"#m9ff7a21d95\" y=\"49.911429\"/>\r\n      </g>\r\n     </g>\r\n     <g id=\"text_8\">\r\n      <!-- 5 -->\r\n      <g transform=\"translate(13.5625 53.710647)scale(0.1 -0.1)\">\r\n       <use xlink:href=\"#DejaVuSans-53\"/>\r\n      </g>\r\n     </g>\r\n    </g>\r\n    <g id=\"ytick_3\">\r\n     <g id=\"line2d_9\">\r\n      <g>\r\n       <use style=\"stroke:#000000;stroke-width:0.8;\" x=\"26.925\" xlink:href=\"#m9ff7a21d95\" y=\"88.74\"/>\r\n      </g>\r\n     </g>\r\n     <g id=\"text_9\">\r\n      <!-- 10 -->\r\n      <g transform=\"translate(7.2 92.539219)scale(0.1 -0.1)\">\r\n       <use xlink:href=\"#DejaVuSans-49\"/>\r\n       <use x=\"63.623047\" xlink:href=\"#DejaVuSans-48\"/>\r\n      </g>\r\n     </g>\r\n    </g>\r\n    <g id=\"ytick_4\">\r\n     <g id=\"line2d_10\">\r\n      <g>\r\n       <use style=\"stroke:#000000;stroke-width:0.8;\" x=\"26.925\" xlink:href=\"#m9ff7a21d95\" y=\"127.568571\"/>\r\n      </g>\r\n     </g>\r\n     <g id=\"text_10\">\r\n      <!-- 15 -->\r\n      <g transform=\"translate(7.2 131.36779)scale(0.1 -0.1)\">\r\n       <use xlink:href=\"#DejaVuSans-49\"/>\r\n       <use x=\"63.623047\" xlink:href=\"#DejaVuSans-53\"/>\r\n      </g>\r\n     </g>\r\n    </g>\r\n    <g id=\"ytick_5\">\r\n     <g id=\"line2d_11\">\r\n      <g>\r\n       <use style=\"stroke:#000000;stroke-width:0.8;\" x=\"26.925\" xlink:href=\"#m9ff7a21d95\" y=\"166.397143\"/>\r\n      </g>\r\n     </g>\r\n     <g id=\"text_11\">\r\n      <!-- 20 -->\r\n      <g transform=\"translate(7.2 170.196362)scale(0.1 -0.1)\">\r\n       <use xlink:href=\"#DejaVuSans-50\"/>\r\n       <use x=\"63.623047\" xlink:href=\"#DejaVuSans-48\"/>\r\n      </g>\r\n     </g>\r\n    </g>\r\n    <g id=\"ytick_6\">\r\n     <g id=\"line2d_12\">\r\n      <g>\r\n       <use style=\"stroke:#000000;stroke-width:0.8;\" x=\"26.925\" xlink:href=\"#m9ff7a21d95\" y=\"205.225714\"/>\r\n      </g>\r\n     </g>\r\n     <g id=\"text_12\">\r\n      <!-- 25 -->\r\n      <g transform=\"translate(7.2 209.024933)scale(0.1 -0.1)\">\r\n       <use xlink:href=\"#DejaVuSans-50\"/>\r\n       <use x=\"63.623047\" xlink:href=\"#DejaVuSans-53\"/>\r\n      </g>\r\n     </g>\r\n    </g>\r\n   </g>\r\n   <g id=\"patch_3\">\r\n    <path d=\"M 26.925 224.64 \r\nL 26.925 7.2 \r\n\" style=\"fill:none;stroke:#000000;stroke-linecap:square;stroke-linejoin:miter;stroke-width:0.8;\"/>\r\n   </g>\r\n   <g id=\"patch_4\">\r\n    <path d=\"M 244.365 224.64 \r\nL 244.365 7.2 \r\n\" style=\"fill:none;stroke:#000000;stroke-linecap:square;stroke-linejoin:miter;stroke-width:0.8;\"/>\r\n   </g>\r\n   <g id=\"patch_5\">\r\n    <path d=\"M 26.925 224.64 \r\nL 244.365 224.64 \r\n\" style=\"fill:none;stroke:#000000;stroke-linecap:square;stroke-linejoin:miter;stroke-width:0.8;\"/>\r\n   </g>\r\n   <g id=\"patch_6\">\r\n    <path d=\"M 26.925 7.2 \r\nL 244.365 7.2 \r\n\" style=\"fill:none;stroke:#000000;stroke-linecap:square;stroke-linejoin:miter;stroke-width:0.8;\"/>\r\n   </g>\r\n  </g>\r\n </g>\r\n <defs>\r\n  <clipPath id=\"pe519f6afe1\">\r\n   <rect height=\"217.44\" width=\"217.44\" x=\"26.925\" y=\"7.2\"/>\r\n  </clipPath>\r\n </defs>\r\n</svg>\r\n",
            "image/png": "[encoded data removed]"
          },
          "metadata": {
            "needs_background": "light"
          }
        }
      ]
    },
    {
      "metadata": {
        "id": "lGyau0mOaP2m",
        "colab_type": "text"
      },
      "cell_type": "markdown",
      "source": [
        "### Defining The Neural Network"
      ]
    },
    {
      "metadata": {
        "id": "3WJXInzQGcAy",
        "colab_type": "code",
        "outputId": "be31aea8-542d-46ab-9816-85bc418664f9",
        "colab": {
          "base_uri": "https://localhost:8080/",
          "height": 153
        }
      },
      "cell_type": "code",
      "source": [
        "class Net(nn.Module):\n",
        "    def __init__(self):\n",
        "        super(Net, self).__init__()\n",
        "        \n",
        "\n",
        "        self.conv_block1 = nn.Sequential(\n",
        "            nn.Conv2d(1, 32, kernel_size=3, stride=1, padding=1),\n",
        "            nn.BatchNorm2d(32),\n",
        "            nn.ReLU(inplace=True),\n",
        "            nn.Conv2d(32, 32, kernel_size=3, stride=1, padding=1),\n",
        "            nn.BatchNorm2d(32),\n",
        "            nn.ReLU(inplace=True),\n",
        "            nn.MaxPool2d(3, stride=2),\n",
        "        )\n",
        "    \n",
        "    \n",
        "        self.conv_block2 = nn.Sequential(\n",
        "            nn.Conv2d(32, 64, kernel_size=3, stride=1, padding=1),\n",
        "            nn.BatchNorm2d(64),\n",
        "            nn.ReLU(inplace=True),\n",
        "            nn.Conv2d(64, 64, kernel_size=3, stride=1, padding=1),\n",
        "            nn.BatchNorm2d(64),\n",
        "            nn.ReLU(inplace=True),\n",
        "            nn.MaxPool2d(3, stride=2),\n",
        "        )\n",
        "        \n",
        "          \n",
        "\n",
        "        self.fcs = nn.Sequential(\n",
        "            nn.Linear(2304, 1152),\n",
        "            nn.ReLU(inplace=True),\n",
        "            nn.Dropout(0.5),\n",
        "            nn.Linear(1152, 576),\n",
        "            nn.ReLU(inplace=True),\n",
        "            nn.Dropout(0.5),\n",
        "            nn.Linear(576, 10)\n",
        "        )\n",
        "\n",
        "    def forward(self, x):\n",
        "        x = self.conv_block1(x)\n",
        "        x = self.conv_block2(x)\n",
        "        x = x.reshape(x.shape[0], -1)\n",
        "        x = self.fcs(x)\n",
        "        return x\n",
        "               "
      ],
      "execution_count": 5,
      "outputs": []
    },
    {
      "cell_type": "code",
      "execution_count": 6,
      "metadata": {},
      "outputs": [
        {
          "output_type": "execute_result",
          "data": {
            "text/plain": [
              "Net(\n",
              "  (conv_block1): Sequential(\n",
              "    (0): Conv2d(1, 32, kernel_size=(3, 3), stride=(1, 1), padding=(1, 1))\n",
              "    (1): BatchNorm2d(32, eps=1e-05, momentum=0.1, affine=True, track_running_stats=True)\n",
              "    (2): ReLU(inplace=True)\n",
              "    (3): Conv2d(32, 32, kernel_size=(3, 3), stride=(1, 1), padding=(1, 1))\n",
              "    (4): BatchNorm2d(32, eps=1e-05, momentum=0.1, affine=True, track_running_stats=True)\n",
              "    (5): ReLU(inplace=True)\n",
              "    (6): MaxPool2d(kernel_size=3, stride=2, padding=0, dilation=1, ceil_mode=False)\n",
              "  )\n",
              "  (conv_block2): Sequential(\n",
              "    (0): Conv2d(32, 64, kernel_size=(3, 3), stride=(1, 1), padding=(1, 1))\n",
              "    (1): BatchNorm2d(64, eps=1e-05, momentum=0.1, affine=True, track_running_stats=True)\n",
              "    (2): ReLU(inplace=True)\n",
              "    (3): Conv2d(64, 64, kernel_size=(3, 3), stride=(1, 1), padding=(1, 1))\n",
              "    (4): BatchNorm2d(64, eps=1e-05, momentum=0.1, affine=True, track_running_stats=True)\n",
              "    (5): ReLU(inplace=True)\n",
              "    (6): MaxPool2d(kernel_size=3, stride=2, padding=0, dilation=1, ceil_mode=False)\n",
              "  )\n",
              "  (fcs): Sequential(\n",
              "    (0): Linear(in_features=2304, out_features=1152, bias=True)\n",
              "    (1): ReLU(inplace=True)\n",
              "    (2): Dropout(p=0.5, inplace=False)\n",
              "    (3): Linear(in_features=1152, out_features=576, bias=True)\n",
              "    (4): ReLU(inplace=True)\n",
              "    (5): Dropout(p=0.5, inplace=False)\n",
              "    (6): Linear(in_features=576, out_features=10, bias=True)\n",
              "  )\n",
              ")"
            ]
          },
          "metadata": {},
          "execution_count": 6
        }
      ],
      "source": [
        "model = Net()\n",
        "model"
      ]
    },
    {
      "cell_type": "code",
      "execution_count": 7,
      "metadata": {},
      "outputs": [],
      "source": [
        "optimizer = optim.Adam(params=model.parameters(), lr=0.001)\n",
        "criterion = nn.CrossEntropyLoss()\n",
        "\n",
        "exp_lr_scheduler = optim.lr_scheduler.StepLR(optimizer, step_size=7, gamma=0.1)\n",
        "\n",
        "if torch.cuda.is_available():\n",
        "    model = model.cuda()\n",
        "    criterion = criterion.cuda()"
      ]
    },
    {
      "metadata": {
        "id": "wstRGu4FaJBe",
        "colab_type": "text"
      },
      "cell_type": "markdown",
      "source": [
        "### Train and evaluate"
      ]
    },
    {
      "metadata": {
        "id": "XCsoAdjdLjPb",
        "colab_type": "code",
        "outputId": "6e7a5f80-f945-4e5c-c538-8ef445b6ad3e",
        "colab": {
          "base_uri": "https://localhost:8080/",
          "height": 306
        }
      },
      "cell_type": "code",
      "source": [
        "def train_model(model, criterion, optimizer, scheduler, dataset_sizes, dataloaders, num_epochs=25 ):\n",
        "    since = time.time()\n",
        "\n",
        "    best_model_wts = copy.deepcopy(model.state_dict())\n",
        "    best_acc = 0.0\n",
        "\n",
        "    for epoch in range(num_epochs):\n",
        "        print('Epoch {}/{}'.format(epoch, num_epochs - 1))\n",
        "        print('-' * 10)\n",
        "\n",
        "        # Each epoch has a training and validation phase\n",
        "        for phase in ['train', 'val']:\n",
        "            if phase == 'train':\n",
        "                model.train()  # Set model to training mode\n",
        "            else:\n",
        "                model.eval()   # Set model to evaluate mode\n",
        "\n",
        "            running_loss = 0.0\n",
        "            running_corrects = 0\n",
        "\n",
        "            # Iterate over data.\n",
        "            for inputs, labels in dataloaders[phase]:\n",
        "                inputs = inputs.to(device)\n",
        "                labels = labels.to(device)\n",
        "\n",
        "                # zero the parameter gradients\n",
        "                optimizer.zero_grad()\n",
        "\n",
        "                # forward\n",
        "                # track history if only in train\n",
        "                with torch.set_grad_enabled(phase == 'train'):\n",
        "                    outputs = model(inputs)\n",
        "                    _, preds = torch.max(outputs, 1)\n",
        "                    loss = criterion(outputs, labels)\n",
        "\n",
        "                    # backward + optimize only if in training phase\n",
        "                    if phase == 'train':\n",
        "                        loss.backward()\n",
        "                        optimizer.step()\n",
        "\n",
        "                # statistics\n",
        "                running_loss += loss.item() * inputs.size(0)\n",
        "                running_corrects += torch.sum(preds == labels.data)\n",
        "            if phase == 'train':\n",
        "                scheduler.step()\n",
        "\n",
        "            epoch_loss = running_loss / dataset_sizes[phase]\n",
        "            epoch_acc = running_corrects.double() / dataset_sizes[phase]\n",
        "\n",
        "            print('{} Loss: {:.4f} Acc: {:.4f}'.format(\n",
        "                phase, epoch_loss, epoch_acc))\n",
        "\n",
        "            # deep copy the model\n",
        "            if phase == 'val' and epoch_acc > best_acc:\n",
        "                best_acc = epoch_acc\n",
        "                best_model_wts = copy.deepcopy(model.state_dict())\n",
        "\n",
        "        print()\n",
        "\n",
        "    time_elapsed = time.time() - since\n",
        "    print('Training complete in {:.0f}m {:.0f}s'.format(\n",
        "        time_elapsed // 60, time_elapsed % 60))\n",
        "    print('Best val Acc: {:4f}'.format(best_acc))\n",
        "\n",
        "    # load best model weights\n",
        "    model.load_state_dict(best_model_wts)\n",
        "    return model"
      ],
      "execution_count": 8,
      "outputs": []
    },
    {
      "cell_type": "code",
      "execution_count": 9,
      "metadata": {},
      "outputs": [
        {
          "output_type": "stream",
          "name": "stdout",
          "text": [
            "Epoch 0/6\n",
            "----------\n",
            "train Loss: 0.1965 Acc: 0.9392\n",
            "val Loss: 0.0737 Acc: 0.9787\n",
            "\n",
            "Epoch 1/6\n",
            "----------\n",
            "train Loss: 0.0763 Acc: 0.9788\n",
            "val Loss: 0.0417 Acc: 0.9881\n",
            "\n",
            "Epoch 2/6\n",
            "----------\n",
            "train Loss: 0.0564 Acc: 0.9849\n",
            "val Loss: 0.0344 Acc: 0.9901\n",
            "\n",
            "Epoch 3/6\n",
            "----------\n",
            "train Loss: 0.0480 Acc: 0.9880\n",
            "val Loss: 0.0244 Acc: 0.9918\n",
            "\n",
            "Epoch 4/6\n",
            "----------\n",
            "train Loss: 0.0406 Acc: 0.9890\n",
            "val Loss: 0.0369 Acc: 0.9902\n",
            "\n",
            "Epoch 5/6\n",
            "----------\n",
            "train Loss: 0.0370 Acc: 0.9904\n",
            "val Loss: 0.0278 Acc: 0.9927\n",
            "\n",
            "Epoch 6/6\n",
            "----------\n",
            "train Loss: 0.0301 Acc: 0.9917\n",
            "val Loss: 0.0220 Acc: 0.9935\n",
            "\n",
            "Training complete in 2m 56s\n",
            "Best val Acc: 0.993500\n"
          ]
        }
      ],
      "source": [
        "model_ft = train_model(model, criterion, optimizer, exp_lr_scheduler,dataset_sizes,dataloaders,num_epochs=7)"
      ]
    },
    {
      "source": [
        "## Visualizing the model predictions"
      ],
      "cell_type": "markdown",
      "metadata": {}
    },
    {
      "cell_type": "code",
      "execution_count": 10,
      "metadata": {},
      "outputs": [],
      "source": [
        "def imshow(inp, title=None):\n",
        "    \"\"\"Imshow for Tensor.\"\"\"\n",
        "    inp = inp.numpy().squeeze()\n",
        "    plt.imshow(inp, cmap='gray_r')\n",
        "    if title is not None:\n",
        "        plt.title(title)"
      ]
    },
    {
      "cell_type": "code",
      "execution_count": 11,
      "metadata": {},
      "outputs": [],
      "source": [
        "def visualize_model(model, num_images=6):\n",
        "    was_training = model.training\n",
        "    model.eval()\n",
        "    images_so_far = 0\n",
        "\n",
        "    with torch.no_grad():\n",
        "        for i, (inputs, labels) in enumerate(dataloaders['val']):\n",
        "            inputs = inputs.to(device)\n",
        "            labels = labels.to(device)\n",
        "\n",
        "            outputs = model(inputs)\n",
        "            _, preds = torch.max(outputs, 1)\n",
        "\n",
        "            for j in range(inputs.size()[0]):\n",
        "                images_so_far += 1\n",
        "                ax = plt.subplot(num_images//2, 2, images_so_far)\n",
        "                ax.axis('off')\n",
        "                ax.set_title('predicted: {}'.format(class_names[preds[j]]))\n",
        "\n",
        "                imshow(inputs.cpu().data[j])\n",
        "                if images_so_far == num_images:\n",
        "                    model.train(mode=was_training)\n",
        "                    plt.show()\n",
        "                    return\n",
        "        model.train(mode=was_training)\n"
      ]
    },
    {
      "metadata": {
        "id": "Ie9Fffl_Mqp6",
        "colab_type": "code",
        "outputId": "2e93c6ea-0534-498d-e072-904f62591dfe",
        "colab": {
          "base_uri": "https://localhost:8080/",
          "height": 261
        }
      },
      "cell_type": "code",
      "source": [
        "visualize_model(model)"
      ],
      "execution_count": 12,
      "outputs": [
        {
          "output_type": "display_data",
          "data": {
            "text/plain": "<Figure size 432x288 with 6 Axes>",
            "image/svg+xml": "<?xml version=\"1.0\" encoding=\"utf-8\" standalone=\"no\"?>\r\n<!DOCTYPE svg PUBLIC \"-//W3C//DTD SVG 1.1//EN\"\r\n  \"http://www.w3.org/Graphics/SVG/1.1/DTD/svg11.dtd\">\r\n<!-- Created with matplotlib (https://matplotlib.org/) -->\r\n<svg height=\"246.958125pt\" version=\"1.1\" viewBox=\"0 0 312.094432 246.958125\" width=\"312.094432pt\" xmlns=\"http://www.w3.org/2000/svg\" xmlns:xlink=\"http://www.w3.org/1999/xlink\">\r\n <metadata>\r\n  <rdf:RDF xmlns:cc=\"http://creativecommons.org/ns#\" xmlns:dc=\"http://purl.org/dc/elements/1.1/\" xmlns:rdf=\"http://www.w3.org/1999/02/22-rdf-syntax-ns#\">\r\n   <cc:Work>\r\n    <dc:type rdf:resource=\"http://purl.org/dc/dcmitype/StillImage\"/>\r\n    <dc:date>2020-11-22T20:02:37.171640</dc:date>\r\n    <dc:format>image/svg+xml</dc:format>\r\n    <dc:creator>\r\n     <cc:Agent>\r\n      <dc:title>Matplotlib v3.3.1, https://matplotlib.org/</dc:title>\r\n     </cc:Agent>\r\n    </dc:creator>\r\n   </cc:Work>\r\n  </rdf:RDF>\r\n </metadata>\r\n <defs>\r\n  <style type=\"text/css\">*{stroke-linecap:butt;stroke-linejoin:round;}</style>\r\n </defs>\r\n <g id=\"figure_1\">\r\n  <g id=\"patch_1\">\r\n   <path d=\"M 0 246.958125 \r\nL 312.094432 246.958125 \r\nL 312.094432 0 \r\nL 0 0 \r\nz\r\n\" style=\"fill:none;\"/>\r\n  </g>\r\n  <g id=\"axes_1\">\r\n   <g clip-path=\"url(#p5655cdbd2b)\">\r\n    <image height=\"64\" id=\"imagef9f2b24aa9\" transform=\"scale(1 -1)translate(0 -64)\" width=\"64\" x=\"30.251967\" xlink:href=\"data:image/png;base64,\r\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\" y=\"-22.271066\"/>\r\n   </g>\r\n   <g id=\"text_1\">\r\n    <!-- predicted: 0 - zero -->\r\n    <g transform=\"translate(7.2 16.318125)scale(0.12 -0.12)\">\r\n     <defs>\r\n      <path d=\"M 18.109375 8.203125 \r\nL 18.109375 -20.796875 \r\nL 9.078125 -20.796875 \r\nL 9.078125 54.6875 \r\nL 18.109375 54.6875 \r\nL 18.109375 46.390625 \r\nQ 20.953125 51.265625 25.265625 53.625 \r\nQ 29.59375 56 35.59375 56 \r\nQ 45.5625 56 51.78125 48.09375 \r\nQ 58.015625 40.1875 58.015625 27.296875 \r\nQ 58.015625 14.40625 51.78125 6.484375 \r\nQ 45.5625 -1.421875 35.59375 -1.421875 \r\nQ 29.59375 -1.421875 25.265625 0.953125 \r\nQ 20.953125 3.328125 18.109375 8.203125 \r\nz\r\nM 48.6875 27.296875 \r\nQ 48.6875 37.203125 44.609375 42.84375 \r\nQ 40.53125 48.484375 33.40625 48.484375 \r\nQ 26.265625 48.484375 22.1875 42.84375 \r\nQ 18.109375 37.203125 18.109375 27.296875 \r\nQ 18.109375 17.390625 22.1875 11.75 \r\nQ 26.265625 6.109375 33.40625 6.109375 \r\nQ 40.53125 6.109375 44.609375 11.75 \r\nQ 48.6875 17.390625 48.6875 27.296875 \r\nz\r\n\" id=\"DejaVuSans-112\"/>\r\n      <path d=\"M 41.109375 46.296875 \r\nQ 39.59375 47.171875 37.8125 47.578125 \r\nQ 36.03125 48 33.890625 48 \r\nQ 26.265625 48 22.1875 43.046875 \r\nQ 18.109375 38.09375 18.109375 28.8125 \r\nL 18.109375 0 \r\nL 9.078125 0 \r\nL 9.078125 54.6875 \r\nL 18.109375 54.6875 \r\nL 18.109375 46.1875 \r\nQ 20.953125 51.171875 25.484375 53.578125 \r\nQ 30.03125 56 36.53125 56 \r\nQ 37.453125 56 38.578125 55.875 \r\nQ 39.703125 55.765625 41.0625 55.515625 \r\nz\r\n\" id=\"DejaVuSans-114\"/>\r\n      <path d=\"M 56.203125 29.59375 \r\nL 56.203125 25.203125 \r\nL 14.890625 25.203125 \r\nQ 15.484375 15.921875 20.484375 11.0625 \r\nQ 25.484375 6.203125 34.421875 6.203125 \r\nQ 39.59375 6.203125 44.453125 7.46875 \r\nQ 49.3125 8.734375 54.109375 11.28125 \r\nL 54.109375 2.78125 \r\nQ 49.265625 0.734375 44.1875 -0.34375 \r\nQ 39.109375 -1.421875 33.890625 -1.421875 \r\nQ 20.796875 -1.421875 13.15625 6.1875 \r\nQ 5.515625 13.8125 5.515625 26.8125 \r\nQ 5.515625 40.234375 12.765625 48.109375 \r\nQ 20.015625 56 32.328125 56 \r\nQ 43.359375 56 49.78125 48.890625 \r\nQ 56.203125 41.796875 56.203125 29.59375 \r\nz\r\nM 47.21875 32.234375 \r\nQ 47.125 39.59375 43.09375 43.984375 \r\nQ 39.0625 48.390625 32.421875 48.390625 \r\nQ 24.90625 48.390625 20.390625 44.140625 \r\nQ 15.875 39.890625 15.1875 32.171875 \r\nz\r\n\" id=\"DejaVuSans-101\"/>\r\n      <path d=\"M 45.40625 46.390625 \r\nL 45.40625 75.984375 \r\nL 54.390625 75.984375 \r\nL 54.390625 0 \r\nL 45.40625 0 \r\nL 45.40625 8.203125 \r\nQ 42.578125 3.328125 38.25 0.953125 \r\nQ 33.9375 -1.421875 27.875 -1.421875 \r\nQ 17.96875 -1.421875 11.734375 6.484375 \r\nQ 5.515625 14.40625 5.515625 27.296875 \r\nQ 5.515625 40.1875 11.734375 48.09375 \r\nQ 17.96875 56 27.875 56 \r\nQ 33.9375 56 38.25 53.625 \r\nQ 42.578125 51.265625 45.40625 46.390625 \r\nz\r\nM 14.796875 27.296875 \r\nQ 14.796875 17.390625 18.875 11.75 \r\nQ 22.953125 6.109375 30.078125 6.109375 \r\nQ 37.203125 6.109375 41.296875 11.75 \r\nQ 45.40625 17.390625 45.40625 27.296875 \r\nQ 45.40625 37.203125 41.296875 42.84375 \r\nQ 37.203125 48.484375 30.078125 48.484375 \r\nQ 22.953125 48.484375 18.875 42.84375 \r\nQ 14.796875 37.203125 14.796875 27.296875 \r\nz\r\n\" id=\"DejaVuSans-100\"/>\r\n      <path d=\"M 9.421875 54.6875 \r\nL 18.40625 54.6875 \r\nL 18.40625 0 \r\nL 9.421875 0 \r\nz\r\nM 9.421875 75.984375 \r\nL 18.40625 75.984375 \r\nL 18.40625 64.59375 \r\nL 9.421875 64.59375 \r\nz\r\n\" id=\"DejaVuSans-105\"/>\r\n      <path d=\"M 48.78125 52.59375 \r\nL 48.78125 44.1875 \r\nQ 44.96875 46.296875 41.140625 47.34375 \r\nQ 37.3125 48.390625 33.40625 48.390625 \r\nQ 24.65625 48.390625 19.8125 42.84375 \r\nQ 14.984375 37.3125 14.984375 27.296875 \r\nQ 14.984375 17.28125 19.8125 11.734375 \r\nQ 24.65625 6.203125 33.40625 6.203125 \r\nQ 37.3125 6.203125 41.140625 7.25 \r\nQ 44.96875 8.296875 48.78125 10.40625 \r\nL 48.78125 2.09375 \r\nQ 45.015625 0.34375 40.984375 -0.53125 \r\nQ 36.96875 -1.421875 32.421875 -1.421875 \r\nQ 20.0625 -1.421875 12.78125 6.34375 \r\nQ 5.515625 14.109375 5.515625 27.296875 \r\nQ 5.515625 40.671875 12.859375 48.328125 \r\nQ 20.21875 56 33.015625 56 \r\nQ 37.15625 56 41.109375 55.140625 \r\nQ 45.0625 54.296875 48.78125 52.59375 \r\nz\r\n\" id=\"DejaVuSans-99\"/>\r\n      <path d=\"M 18.3125 70.21875 \r\nL 18.3125 54.6875 \r\nL 36.8125 54.6875 \r\nL 36.8125 47.703125 \r\nL 18.3125 47.703125 \r\nL 18.3125 18.015625 \r\nQ 18.3125 11.328125 20.140625 9.421875 \r\nQ 21.96875 7.515625 27.59375 7.515625 \r\nL 36.8125 7.515625 \r\nL 36.8125 0 \r\nL 27.59375 0 \r\nQ 17.1875 0 13.234375 3.875 \r\nQ 9.28125 7.765625 9.28125 18.015625 \r\nL 9.28125 47.703125 \r\nL 2.6875 47.703125 \r\nL 2.6875 54.6875 \r\nL 9.28125 54.6875 \r\nL 9.28125 70.21875 \r\nz\r\n\" id=\"DejaVuSans-116\"/>\r\n      <path d=\"M 11.71875 12.40625 \r\nL 22.015625 12.40625 \r\nL 22.015625 0 \r\nL 11.71875 0 \r\nz\r\nM 11.71875 51.703125 \r\nL 22.015625 51.703125 \r\nL 22.015625 39.3125 \r\nL 11.71875 39.3125 \r\nz\r\n\" id=\"DejaVuSans-58\"/>\r\n      <path id=\"DejaVuSans-32\"/>\r\n      <path d=\"M 31.78125 66.40625 \r\nQ 24.171875 66.40625 20.328125 58.90625 \r\nQ 16.5 51.421875 16.5 36.375 \r\nQ 16.5 21.390625 20.328125 13.890625 \r\nQ 24.171875 6.390625 31.78125 6.390625 \r\nQ 39.453125 6.390625 43.28125 13.890625 \r\nQ 47.125 21.390625 47.125 36.375 \r\nQ 47.125 51.421875 43.28125 58.90625 \r\nQ 39.453125 66.40625 31.78125 66.40625 \r\nz\r\nM 31.78125 74.21875 \r\nQ 44.046875 74.21875 50.515625 64.515625 \r\nQ 56.984375 54.828125 56.984375 36.375 \r\nQ 56.984375 17.96875 50.515625 8.265625 \r\nQ 44.046875 -1.421875 31.78125 -1.421875 \r\nQ 19.53125 -1.421875 13.0625 8.265625 \r\nQ 6.59375 17.96875 6.59375 36.375 \r\nQ 6.59375 54.828125 13.0625 64.515625 \r\nQ 19.53125 74.21875 31.78125 74.21875 \r\nz\r\n\" id=\"DejaVuSans-48\"/>\r\n      <path d=\"M 4.890625 31.390625 \r\nL 31.203125 31.390625 \r\nL 31.203125 23.390625 \r\nL 4.890625 23.390625 \r\nz\r\n\" id=\"DejaVuSans-45\"/>\r\n      <path d=\"M 5.515625 54.6875 \r\nL 48.1875 54.6875 \r\nL 48.1875 46.484375 \r\nL 14.40625 7.171875 \r\nL 48.1875 7.171875 \r\nL 48.1875 0 \r\nL 4.296875 0 \r\nL 4.296875 8.203125 \r\nL 38.09375 47.515625 \r\nL 5.515625 47.515625 \r\nz\r\n\" id=\"DejaVuSans-122\"/>\r\n      <path d=\"M 30.609375 48.390625 \r\nQ 23.390625 48.390625 19.1875 42.75 \r\nQ 14.984375 37.109375 14.984375 27.296875 \r\nQ 14.984375 17.484375 19.15625 11.84375 \r\nQ 23.34375 6.203125 30.609375 6.203125 \r\nQ 37.796875 6.203125 41.984375 11.859375 \r\nQ 46.1875 17.53125 46.1875 27.296875 \r\nQ 46.1875 37.015625 41.984375 42.703125 \r\nQ 37.796875 48.390625 30.609375 48.390625 \r\nz\r\nM 30.609375 56 \r\nQ 42.328125 56 49.015625 48.375 \r\nQ 55.71875 40.765625 55.71875 27.296875 \r\nQ 55.71875 13.875 49.015625 6.21875 \r\nQ 42.328125 -1.421875 30.609375 -1.421875 \r\nQ 18.84375 -1.421875 12.171875 6.21875 \r\nQ 5.515625 13.875 5.515625 27.296875 \r\nQ 5.515625 40.765625 12.171875 48.375 \r\nQ 18.84375 56 30.609375 56 \r\nz\r\n\" id=\"DejaVuSans-111\"/>\r\n     </defs>\r\n     <use xlink:href=\"#DejaVuSans-112\"/>\r\n     <use x=\"63.476562\" xlink:href=\"#DejaVuSans-114\"/>\r\n     <use x=\"102.339844\" xlink:href=\"#DejaVuSans-101\"/>\r\n     <use x=\"163.863281\" xlink:href=\"#DejaVuSans-100\"/>\r\n     <use x=\"227.339844\" xlink:href=\"#DejaVuSans-105\"/>\r\n     <use x=\"255.123047\" xlink:href=\"#DejaVuSans-99\"/>\r\n     <use x=\"310.103516\" xlink:href=\"#DejaVuSans-116\"/>\r\n     <use x=\"349.3125\" xlink:href=\"#DejaVuSans-101\"/>\r\n     <use x=\"410.835938\" xlink:href=\"#DejaVuSans-100\"/>\r\n     <use x=\"474.3125\" xlink:href=\"#DejaVuSans-58\"/>\r\n     <use x=\"508.003906\" xlink:href=\"#DejaVuSans-32\"/>\r\n     <use x=\"539.791016\" xlink:href=\"#DejaVuSans-48\"/>\r\n     <use x=\"603.414062\" xlink:href=\"#DejaVuSans-32\"/>\r\n     <use x=\"635.201172\" xlink:href=\"#DejaVuSans-45\"/>\r\n     <use x=\"671.285156\" xlink:href=\"#DejaVuSans-32\"/>\r\n     <use x=\"703.072266\" xlink:href=\"#DejaVuSans-122\"/>\r\n     <use x=\"755.5625\" xlink:href=\"#DejaVuSans-101\"/>\r\n     <use x=\"817.085938\" xlink:href=\"#DejaVuSans-114\"/>\r\n     <use x=\"855.949219\" xlink:href=\"#DejaVuSans-111\"/>\r\n    </g>\r\n   </g>\r\n  </g>\r\n  <g id=\"axes_2\">\r\n   <g clip-path=\"url(#p06b8ba924c)\">\r\n    <image height=\"64\" id=\"image1ad71c5a5e\" transform=\"scale(1 -1)translate(0 -64)\" width=\"64\" x=\"212.870149\" xlink:href=\"data:image/png;base64,\r\niVBORw0KGgoAAAANSUhEUgAAAEAAAABACAYAAACqaXHeAAAFYUlEQVR4nO2by2/TWBvGf3Z8iXNxyYWUhpC2lAq6AgkBEuy4rfhzkbIGhFQWLIAKQYUQohSpCaWmru34PotRM03T+b5ZzPGpmP6kSKkS+Tx5fPy+zzl2lTzPc/7DqLIFyObMANkCZHNmgGwBstFED5AkCaPRCN/3cRyH/f19arUa7XabcrlMu91G13XRMv4W4QYEQcDz58/5/Pkzr1694s2bN6ytrfH48WO63S4PHz6k2WyKlvG3CDcgyzJ838d1XXZ2dvj69Su2bbO1tYWqqriuS6VSQdd1SqWSaDkzCDdAVVVs26bValGpVNA0jW/fvjEYDFhcXKTT6dDv91ldXeX8+fOi5cwg3ABFUTBNk0qlgmEYKIqC7/t8+fKFPM/Z3t7GMAx6vZ5oKScivAuYpsna2hq3bt2i2+2i6zqKopBlGY7j8Pr1a9bX1xmNRqKlnIjwGaDrOisrK8RxzMLCApqmkec5YRjieR7v379nNBrx6NEj0VJORLgB/4s4jnEch1KpRBiGUjRINSCKIr5//47v+3ieJ0VDIW3QdV08z8PzPPI8J8uyyedpmpIkCbJW5YUEofX1dba2tvj48SPj8XjKANkI7wJpmrK3t8dwOMT3fbIsk3a2T6KQxdDxaX8SYRji+z5xHBchacKpWA3meU6SJIRhSJIkhY5dSBC6du3aJAhpmjaT+dM0ZXNzk5cvX04SYlEIL4KmaXL9+nWiKOLZs2eYpkkcx1NTPY5j3r59SxAEPHjwgKtXr6IoimhpQEE5QFVVSqUSlmVh2za+7xOG4aQu5HnO7u4ulmXx48cPPM/DMIzJ2kGoNqFHP4KiKDQaDZaXl2m326jqX0OnacqHDx948eIF7969Y3t7m93d3ULaZaFJsFqt0mg08Dxv6sxmWcZ4PCaOY4IgII7jwsJRYTNAVVWWl5e5d+8eq6urUzMA/kqESZIUmhUKbYO2bdPtdjl37hylUok8z6deaZpO/V0E0hZDx3+grHRYeBA6qbAd/fFFG1FoFzAMg7m5OWq1GpZlYZomiqJMFcSi+v8hhdeATqdDu93Gtm3q9Tqa9udVeNyIoijUAMMwqFarVCoVLMvCMIyZbhAEAaPRCMdxSNNUuKZCL4FWq8XKygr9fp9Op0Oz2ZzMgEM+ffrE06dPWV9fZzweC9dV6AzQdR3LsrAsi3K5PNkhPsrBwQE7Ozv8/Pnz95oB/5QwDHEch4ODg0Ki8KkzIEkSgiAgDMPfKwqfVs4MkDForVZjaWmJXq8382xAlmVEUUSSJERRRBzHQi8FKQZcunSJJ0+ecP/+febm5qY+O6wBruuyt7fHr1+/hO4TSjHAMAwajQa2bc/kgDRNCcOQ8XjMeDwmCAKh7VDKalDTtEkaPJ4EXdcliiLa7Tabm5t4nke1WqVcLovRIuSo/wdVVdF1HU3TZoJQFEVEUYTrujiOQ71e//0ugdPEmQEyBjUMY/LcUL/fZ2lpiXq9PvWd/f19NjY22NjYwHVdYVqkGFAul5mfn2dxcZGbN29y584dWq3W1HeGwyGDwYDBYMBwOBSmRVoRhD+7gWmamKY5c7usVCpRLpexLEvo43PSNkVVVZ3cMTp8f5Rms8ndu3fp9/s0Gg1xOoQd+Z8KUNVJK8zzHEVRJmd/fn6eTqeDaZrCxpf6jNBRDvO+ZVnU63V6vR43btyg2+3OFMh/k1NhwNHpr+s6tVqNZrNJv9/nwoULwlIgSDagXq9z+/Ztrly5wuXLlxmNRlQqFarVKhcvXmRhYWFq51gEiux/mjq8D3h8++uwMIreKpdugGykdwHZnBkgW4BszgyQLUA2ZwbIFiCbMwNkC5DNH0HBO1a/PJdmAAAAAElFTkSuQmCC\" y=\"-22.271066\"/>\r\n   </g>\r\n   <g id=\"text_2\">\r\n    <!-- predicted: 1 - one -->\r\n    <g transform=\"translate(191.496307 16.318125)scale(0.12 -0.12)\">\r\n     <defs>\r\n      <path d=\"M 12.40625 8.296875 \r\nL 28.515625 8.296875 \r\nL 28.515625 63.921875 \r\nL 10.984375 60.40625 \r\nL 10.984375 69.390625 \r\nL 28.421875 72.90625 \r\nL 38.28125 72.90625 \r\nL 38.28125 8.296875 \r\nL 54.390625 8.296875 \r\nL 54.390625 0 \r\nL 12.40625 0 \r\nz\r\n\" id=\"DejaVuSans-49\"/>\r\n      <path d=\"M 54.890625 33.015625 \r\nL 54.890625 0 \r\nL 45.90625 0 \r\nL 45.90625 32.71875 \r\nQ 45.90625 40.484375 42.875 44.328125 \r\nQ 39.84375 48.1875 33.796875 48.1875 \r\nQ 26.515625 48.1875 22.3125 43.546875 \r\nQ 18.109375 38.921875 18.109375 30.90625 \r\nL 18.109375 0 \r\nL 9.078125 0 \r\nL 9.078125 54.6875 \r\nL 18.109375 54.6875 \r\nL 18.109375 46.1875 \r\nQ 21.34375 51.125 25.703125 53.5625 \r\nQ 30.078125 56 35.796875 56 \r\nQ 45.21875 56 50.046875 50.171875 \r\nQ 54.890625 44.34375 54.890625 33.015625 \r\nz\r\n\" id=\"DejaVuSans-110\"/>\r\n     </defs>\r\n     <use xlink:href=\"#DejaVuSans-112\"/>\r\n     <use x=\"63.476562\" xlink:href=\"#DejaVuSans-114\"/>\r\n     <use x=\"102.339844\" xlink:href=\"#DejaVuSans-101\"/>\r\n     <use x=\"163.863281\" xlink:href=\"#DejaVuSans-100\"/>\r\n     <use x=\"227.339844\" xlink:href=\"#DejaVuSans-105\"/>\r\n     <use x=\"255.123047\" xlink:href=\"#DejaVuSans-99\"/>\r\n     <use x=\"310.103516\" xlink:href=\"#DejaVuSans-116\"/>\r\n     <use x=\"349.3125\" xlink:href=\"#DejaVuSans-101\"/>\r\n     <use x=\"410.835938\" xlink:href=\"#DejaVuSans-100\"/>\r\n     <use x=\"474.3125\" xlink:href=\"#DejaVuSans-58\"/>\r\n     <use x=\"508.003906\" xlink:href=\"#DejaVuSans-32\"/>\r\n     <use x=\"539.791016\" xlink:href=\"#DejaVuSans-49\"/>\r\n     <use x=\"603.414062\" xlink:href=\"#DejaVuSans-32\"/>\r\n     <use x=\"635.201172\" xlink:href=\"#DejaVuSans-45\"/>\r\n     <use x=\"671.285156\" xlink:href=\"#DejaVuSans-32\"/>\r\n     <use x=\"703.072266\" xlink:href=\"#DejaVuSans-111\"/>\r\n     <use x=\"764.253906\" xlink:href=\"#DejaVuSans-110\"/>\r\n     <use x=\"827.632812\" xlink:href=\"#DejaVuSans-101\"/>\r\n    </g>\r\n   </g>\r\n  </g>\r\n  <g id=\"axes_3\">\r\n   <g clip-path=\"url(#p60ed2741db)\">\r\n    <image height=\"64\" id=\"image26acee3882\" transform=\"scale(1 -1)translate(0 -64)\" width=\"64\" x=\"30.251967\" xlink:href=\"data:image/png;base64,\r\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\" y=\"-99.014596\"/>\r\n   </g>\r\n   <g id=\"text_3\">\r\n    <!-- predicted: 6 - six -->\r\n    <g transform=\"translate(11.7 93.061654)scale(0.12 -0.12)\">\r\n     <defs>\r\n      <path d=\"M 33.015625 40.375 \r\nQ 26.375 40.375 22.484375 35.828125 \r\nQ 18.609375 31.296875 18.609375 23.390625 \r\nQ 18.609375 15.53125 22.484375 10.953125 \r\nQ 26.375 6.390625 33.015625 6.390625 \r\nQ 39.65625 6.390625 43.53125 10.953125 \r\nQ 47.40625 15.53125 47.40625 23.390625 \r\nQ 47.40625 31.296875 43.53125 35.828125 \r\nQ 39.65625 40.375 33.015625 40.375 \r\nz\r\nM 52.59375 71.296875 \r\nL 52.59375 62.3125 \r\nQ 48.875 64.0625 45.09375 64.984375 \r\nQ 41.3125 65.921875 37.59375 65.921875 \r\nQ 27.828125 65.921875 22.671875 59.328125 \r\nQ 17.53125 52.734375 16.796875 39.40625 \r\nQ 19.671875 43.65625 24.015625 45.921875 \r\nQ 28.375 48.1875 33.59375 48.1875 \r\nQ 44.578125 48.1875 50.953125 41.515625 \r\nQ 57.328125 34.859375 57.328125 23.390625 \r\nQ 57.328125 12.15625 50.6875 5.359375 \r\nQ 44.046875 -1.421875 33.015625 -1.421875 \r\nQ 20.359375 -1.421875 13.671875 8.265625 \r\nQ 6.984375 17.96875 6.984375 36.375 \r\nQ 6.984375 53.65625 15.1875 63.9375 \r\nQ 23.390625 74.21875 37.203125 74.21875 \r\nQ 40.921875 74.21875 44.703125 73.484375 \r\nQ 48.484375 72.75 52.59375 71.296875 \r\nz\r\n\" id=\"DejaVuSans-54\"/>\r\n      <path d=\"M 44.28125 53.078125 \r\nL 44.28125 44.578125 \r\nQ 40.484375 46.53125 36.375 47.5 \r\nQ 32.28125 48.484375 27.875 48.484375 \r\nQ 21.1875 48.484375 17.84375 46.4375 \r\nQ 14.5 44.390625 14.5 40.28125 \r\nQ 14.5 37.15625 16.890625 35.375 \r\nQ 19.28125 33.59375 26.515625 31.984375 \r\nL 29.59375 31.296875 \r\nQ 39.15625 29.25 43.1875 25.515625 \r\nQ 47.21875 21.78125 47.21875 15.09375 \r\nQ 47.21875 7.46875 41.1875 3.015625 \r\nQ 35.15625 -1.421875 24.609375 -1.421875 \r\nQ 20.21875 -1.421875 15.453125 -0.5625 \r\nQ 10.6875 0.296875 5.421875 2 \r\nL 5.421875 11.28125 \r\nQ 10.40625 8.6875 15.234375 7.390625 \r\nQ 20.0625 6.109375 24.8125 6.109375 \r\nQ 31.15625 6.109375 34.5625 8.28125 \r\nQ 37.984375 10.453125 37.984375 14.40625 \r\nQ 37.984375 18.0625 35.515625 20.015625 \r\nQ 33.0625 21.96875 24.703125 23.78125 \r\nL 21.578125 24.515625 \r\nQ 13.234375 26.265625 9.515625 29.90625 \r\nQ 5.8125 33.546875 5.8125 39.890625 \r\nQ 5.8125 47.609375 11.28125 51.796875 \r\nQ 16.75 56 26.8125 56 \r\nQ 31.78125 56 36.171875 55.265625 \r\nQ 40.578125 54.546875 44.28125 53.078125 \r\nz\r\n\" id=\"DejaVuSans-115\"/>\r\n      <path d=\"M 54.890625 54.6875 \r\nL 35.109375 28.078125 \r\nL 55.90625 0 \r\nL 45.3125 0 \r\nL 29.390625 21.484375 \r\nL 13.484375 0 \r\nL 2.875 0 \r\nL 24.125 28.609375 \r\nL 4.6875 54.6875 \r\nL 15.28125 54.6875 \r\nL 29.78125 35.203125 \r\nL 44.28125 54.6875 \r\nz\r\n\" id=\"DejaVuSans-120\"/>\r\n     </defs>\r\n     <use xlink:href=\"#DejaVuSans-112\"/>\r\n     <use x=\"63.476562\" xlink:href=\"#DejaVuSans-114\"/>\r\n     <use x=\"102.339844\" xlink:href=\"#DejaVuSans-101\"/>\r\n     <use x=\"163.863281\" xlink:href=\"#DejaVuSans-100\"/>\r\n     <use x=\"227.339844\" xlink:href=\"#DejaVuSans-105\"/>\r\n     <use x=\"255.123047\" xlink:href=\"#DejaVuSans-99\"/>\r\n     <use x=\"310.103516\" xlink:href=\"#DejaVuSans-116\"/>\r\n     <use x=\"349.3125\" xlink:href=\"#DejaVuSans-101\"/>\r\n     <use x=\"410.835938\" xlink:href=\"#DejaVuSans-100\"/>\r\n     <use x=\"474.3125\" xlink:href=\"#DejaVuSans-58\"/>\r\n     <use x=\"508.003906\" xlink:href=\"#DejaVuSans-32\"/>\r\n     <use x=\"539.791016\" xlink:href=\"#DejaVuSans-54\"/>\r\n     <use x=\"603.414062\" xlink:href=\"#DejaVuSans-32\"/>\r\n     <use x=\"635.201172\" xlink:href=\"#DejaVuSans-45\"/>\r\n     <use x=\"671.285156\" xlink:href=\"#DejaVuSans-32\"/>\r\n     <use x=\"703.072266\" xlink:href=\"#DejaVuSans-115\"/>\r\n     <use x=\"755.171875\" xlink:href=\"#DejaVuSans-105\"/>\r\n     <use x=\"782.955078\" xlink:href=\"#DejaVuSans-120\"/>\r\n    </g>\r\n   </g>\r\n  </g>\r\n  <g id=\"axes_4\">\r\n   <g clip-path=\"url(#pee40a8abee)\">\r\n    <image height=\"64\" id=\"image1fc3bfb716\" transform=\"scale(1 -1)translate(0 -64)\" width=\"64\" x=\"212.870149\" xlink:href=\"data:image/png;base64,\r\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\" y=\"-99.014596\"/>\r\n   </g>\r\n   <g id=\"text_4\">\r\n    <!-- predicted: 7 - seven -->\r\n    <g transform=\"translate(184.798807 93.061654)scale(0.12 -0.12)\">\r\n     <defs>\r\n      <path d=\"M 8.203125 72.90625 \r\nL 55.078125 72.90625 \r\nL 55.078125 68.703125 \r\nL 28.609375 0 \r\nL 18.3125 0 \r\nL 43.21875 64.59375 \r\nL 8.203125 64.59375 \r\nz\r\n\" id=\"DejaVuSans-55\"/>\r\n      <path d=\"M 2.984375 54.6875 \r\nL 12.5 54.6875 \r\nL 29.59375 8.796875 \r\nL 46.6875 54.6875 \r\nL 56.203125 54.6875 \r\nL 35.6875 0 \r\nL 23.484375 0 \r\nz\r\n\" id=\"DejaVuSans-118\"/>\r\n     </defs>\r\n     <use xlink:href=\"#DejaVuSans-112\"/>\r\n     <use x=\"63.476562\" xlink:href=\"#DejaVuSans-114\"/>\r\n     <use x=\"102.339844\" xlink:href=\"#DejaVuSans-101\"/>\r\n     <use x=\"163.863281\" xlink:href=\"#DejaVuSans-100\"/>\r\n     <use x=\"227.339844\" xlink:href=\"#DejaVuSans-105\"/>\r\n     <use x=\"255.123047\" xlink:href=\"#DejaVuSans-99\"/>\r\n     <use x=\"310.103516\" xlink:href=\"#DejaVuSans-116\"/>\r\n     <use x=\"349.3125\" xlink:href=\"#DejaVuSans-101\"/>\r\n     <use x=\"410.835938\" xlink:href=\"#DejaVuSans-100\"/>\r\n     <use x=\"474.3125\" xlink:href=\"#DejaVuSans-58\"/>\r\n     <use x=\"508.003906\" xlink:href=\"#DejaVuSans-32\"/>\r\n     <use x=\"539.791016\" xlink:href=\"#DejaVuSans-55\"/>\r\n     <use x=\"603.414062\" xlink:href=\"#DejaVuSans-32\"/>\r\n     <use x=\"635.201172\" xlink:href=\"#DejaVuSans-45\"/>\r\n     <use x=\"671.285156\" xlink:href=\"#DejaVuSans-32\"/>\r\n     <use x=\"703.072266\" xlink:href=\"#DejaVuSans-115\"/>\r\n     <use x=\"755.171875\" xlink:href=\"#DejaVuSans-101\"/>\r\n     <use x=\"816.695312\" xlink:href=\"#DejaVuSans-118\"/>\r\n     <use x=\"875.875\" xlink:href=\"#DejaVuSans-101\"/>\r\n     <use x=\"937.398438\" xlink:href=\"#DejaVuSans-110\"/>\r\n    </g>\r\n   </g>\r\n  </g>\r\n  <g id=\"axes_5\">\r\n   <g clip-path=\"url(#pf804b17a71)\">\r\n    <image height=\"64\" id=\"image1d0bb853e3\" transform=\"scale(1 -1)translate(0 -64)\" width=\"64\" x=\"30.251967\" xlink:href=\"data:image/png;base64,\r\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\" y=\"-175.758125\"/>\r\n   </g>\r\n   <g id=\"text_5\">\r\n    <!-- predicted: 0 - zero -->\r\n    <g transform=\"translate(7.2 169.805184)scale(0.12 -0.12)\">\r\n     <use xlink:href=\"#DejaVuSans-112\"/>\r\n     <use x=\"63.476562\" xlink:href=\"#DejaVuSans-114\"/>\r\n     <use x=\"102.339844\" xlink:href=\"#DejaVuSans-101\"/>\r\n     <use x=\"163.863281\" xlink:href=\"#DejaVuSans-100\"/>\r\n     <use x=\"227.339844\" xlink:href=\"#DejaVuSans-105\"/>\r\n     <use x=\"255.123047\" xlink:href=\"#DejaVuSans-99\"/>\r\n     <use x=\"310.103516\" xlink:href=\"#DejaVuSans-116\"/>\r\n     <use x=\"349.3125\" xlink:href=\"#DejaVuSans-101\"/>\r\n     <use x=\"410.835938\" xlink:href=\"#DejaVuSans-100\"/>\r\n     <use x=\"474.3125\" xlink:href=\"#DejaVuSans-58\"/>\r\n     <use x=\"508.003906\" xlink:href=\"#DejaVuSans-32\"/>\r\n     <use x=\"539.791016\" xlink:href=\"#DejaVuSans-48\"/>\r\n     <use x=\"603.414062\" xlink:href=\"#DejaVuSans-32\"/>\r\n     <use x=\"635.201172\" xlink:href=\"#DejaVuSans-45\"/>\r\n     <use x=\"671.285156\" xlink:href=\"#DejaVuSans-32\"/>\r\n     <use x=\"703.072266\" xlink:href=\"#DejaVuSans-122\"/>\r\n     <use x=\"755.5625\" xlink:href=\"#DejaVuSans-101\"/>\r\n     <use x=\"817.085938\" xlink:href=\"#DejaVuSans-114\"/>\r\n     <use x=\"855.949219\" xlink:href=\"#DejaVuSans-111\"/>\r\n    </g>\r\n   </g>\r\n  </g>\r\n  <g id=\"axes_6\">\r\n   <g clip-path=\"url(#p1fc810e0bb)\">\r\n    <image height=\"64\" id=\"imagea1116e1ea2\" transform=\"scale(1 -1)translate(0 -64)\" width=\"64\" x=\"212.870149\" xlink:href=\"data:image/png;base64,\r\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\" y=\"-175.758125\"/>\r\n   </g>\r\n   <g id=\"text_6\">\r\n    <!-- predicted: 8 - eight -->\r\n    <g transform=\"translate(187.339432 169.805184)scale(0.12 -0.12)\">\r\n     <defs>\r\n      <path d=\"M 31.78125 34.625 \r\nQ 24.75 34.625 20.71875 30.859375 \r\nQ 16.703125 27.09375 16.703125 20.515625 \r\nQ 16.703125 13.921875 20.71875 10.15625 \r\nQ 24.75 6.390625 31.78125 6.390625 \r\nQ 38.8125 6.390625 42.859375 10.171875 \r\nQ 46.921875 13.96875 46.921875 20.515625 \r\nQ 46.921875 27.09375 42.890625 30.859375 \r\nQ 38.875 34.625 31.78125 34.625 \r\nz\r\nM 21.921875 38.8125 \r\nQ 15.578125 40.375 12.03125 44.71875 \r\nQ 8.5 49.078125 8.5 55.328125 \r\nQ 8.5 64.0625 14.71875 69.140625 \r\nQ 20.953125 74.21875 31.78125 74.21875 \r\nQ 42.671875 74.21875 48.875 69.140625 \r\nQ 55.078125 64.0625 55.078125 55.328125 \r\nQ 55.078125 49.078125 51.53125 44.71875 \r\nQ 48 40.375 41.703125 38.8125 \r\nQ 48.828125 37.15625 52.796875 32.3125 \r\nQ 56.78125 27.484375 56.78125 20.515625 \r\nQ 56.78125 9.90625 50.3125 4.234375 \r\nQ 43.84375 -1.421875 31.78125 -1.421875 \r\nQ 19.734375 -1.421875 13.25 4.234375 \r\nQ 6.78125 9.90625 6.78125 20.515625 \r\nQ 6.78125 27.484375 10.78125 32.3125 \r\nQ 14.796875 37.15625 21.921875 38.8125 \r\nz\r\nM 18.3125 54.390625 \r\nQ 18.3125 48.734375 21.84375 45.5625 \r\nQ 25.390625 42.390625 31.78125 42.390625 \r\nQ 38.140625 42.390625 41.71875 45.5625 \r\nQ 45.3125 48.734375 45.3125 54.390625 \r\nQ 45.3125 60.0625 41.71875 63.234375 \r\nQ 38.140625 66.40625 31.78125 66.40625 \r\nQ 25.390625 66.40625 21.84375 63.234375 \r\nQ 18.3125 60.0625 18.3125 54.390625 \r\nz\r\n\" id=\"DejaVuSans-56\"/>\r\n      <path d=\"M 45.40625 27.984375 \r\nQ 45.40625 37.75 41.375 43.109375 \r\nQ 37.359375 48.484375 30.078125 48.484375 \r\nQ 22.859375 48.484375 18.828125 43.109375 \r\nQ 14.796875 37.75 14.796875 27.984375 \r\nQ 14.796875 18.265625 18.828125 12.890625 \r\nQ 22.859375 7.515625 30.078125 7.515625 \r\nQ 37.359375 7.515625 41.375 12.890625 \r\nQ 45.40625 18.265625 45.40625 27.984375 \r\nz\r\nM 54.390625 6.78125 \r\nQ 54.390625 -7.171875 48.1875 -13.984375 \r\nQ 42 -20.796875 29.203125 -20.796875 \r\nQ 24.46875 -20.796875 20.265625 -20.09375 \r\nQ 16.0625 -19.390625 12.109375 -17.921875 \r\nL 12.109375 -9.1875 \r\nQ 16.0625 -11.328125 19.921875 -12.34375 \r\nQ 23.78125 -13.375 27.78125 -13.375 \r\nQ 36.625 -13.375 41.015625 -8.765625 \r\nQ 45.40625 -4.15625 45.40625 5.171875 \r\nL 45.40625 9.625 \r\nQ 42.625 4.78125 38.28125 2.390625 \r\nQ 33.9375 0 27.875 0 \r\nQ 17.828125 0 11.671875 7.65625 \r\nQ 5.515625 15.328125 5.515625 27.984375 \r\nQ 5.515625 40.671875 11.671875 48.328125 \r\nQ 17.828125 56 27.875 56 \r\nQ 33.9375 56 38.28125 53.609375 \r\nQ 42.625 51.21875 45.40625 46.390625 \r\nL 45.40625 54.6875 \r\nL 54.390625 54.6875 \r\nz\r\n\" id=\"DejaVuSans-103\"/>\r\n      <path d=\"M 54.890625 33.015625 \r\nL 54.890625 0 \r\nL 45.90625 0 \r\nL 45.90625 32.71875 \r\nQ 45.90625 40.484375 42.875 44.328125 \r\nQ 39.84375 48.1875 33.796875 48.1875 \r\nQ 26.515625 48.1875 22.3125 43.546875 \r\nQ 18.109375 38.921875 18.109375 30.90625 \r\nL 18.109375 0 \r\nL 9.078125 0 \r\nL 9.078125 75.984375 \r\nL 18.109375 75.984375 \r\nL 18.109375 46.1875 \r\nQ 21.34375 51.125 25.703125 53.5625 \r\nQ 30.078125 56 35.796875 56 \r\nQ 45.21875 56 50.046875 50.171875 \r\nQ 54.890625 44.34375 54.890625 33.015625 \r\nz\r\n\" id=\"DejaVuSans-104\"/>\r\n     </defs>\r\n     <use xlink:href=\"#DejaVuSans-112\"/>\r\n     <use x=\"63.476562\" xlink:href=\"#DejaVuSans-114\"/>\r\n     <use x=\"102.339844\" xlink:href=\"#DejaVuSans-101\"/>\r\n     <use x=\"163.863281\" xlink:href=\"#DejaVuSans-100\"/>\r\n     <use x=\"227.339844\" xlink:href=\"#DejaVuSans-105\"/>\r\n     <use x=\"255.123047\" xlink:href=\"#DejaVuSans-99\"/>\r\n     <use x=\"310.103516\" xlink:href=\"#DejaVuSans-116\"/>\r\n     <use x=\"349.3125\" xlink:href=\"#DejaVuSans-101\"/>\r\n     <use x=\"410.835938\" xlink:href=\"#DejaVuSans-100\"/>\r\n     <use x=\"474.3125\" xlink:href=\"#DejaVuSans-58\"/>\r\n     <use x=\"508.003906\" xlink:href=\"#DejaVuSans-32\"/>\r\n     <use x=\"539.791016\" xlink:href=\"#DejaVuSans-56\"/>\r\n     <use x=\"603.414062\" xlink:href=\"#DejaVuSans-32\"/>\r\n     <use x=\"635.201172\" xlink:href=\"#DejaVuSans-45\"/>\r\n     <use x=\"671.285156\" xlink:href=\"#DejaVuSans-32\"/>\r\n     <use x=\"703.072266\" xlink:href=\"#DejaVuSans-101\"/>\r\n     <use x=\"764.595703\" xlink:href=\"#DejaVuSans-105\"/>\r\n     <use x=\"792.378906\" xlink:href=\"#DejaVuSans-103\"/>\r\n     <use x=\"855.855469\" xlink:href=\"#DejaVuSans-104\"/>\r\n     <use x=\"919.234375\" xlink:href=\"#DejaVuSans-116\"/>\r\n    </g>\r\n   </g>\r\n  </g>\r\n </g>\r\n <defs>\r\n  <clipPath id=\"p5655cdbd2b\">\r\n   <rect height=\"63.952941\" width=\"63.952941\" x=\"30.251967\" y=\"22.318125\"/>\r\n  </clipPath>\r\n  <clipPath id=\"p06b8ba924c\">\r\n   <rect height=\"63.952941\" width=\"63.952941\" x=\"212.870149\" y=\"22.318125\"/>\r\n  </clipPath>\r\n  <clipPath id=\"p60ed2741db\">\r\n   <rect height=\"63.952941\" width=\"63.952941\" x=\"30.251967\" y=\"99.061654\"/>\r\n  </clipPath>\r\n  <clipPath id=\"pee40a8abee\">\r\n   <rect height=\"63.952941\" width=\"63.952941\" x=\"212.870149\" y=\"99.061654\"/>\r\n  </clipPath>\r\n  <clipPath id=\"pf804b17a71\">\r\n   <rect height=\"63.952941\" width=\"63.952941\" x=\"30.251967\" y=\"175.805184\"/>\r\n  </clipPath>\r\n  <clipPath id=\"p1fc810e0bb\">\r\n   <rect height=\"63.952941\" width=\"63.952941\" x=\"212.870149\" y=\"175.805184\"/>\r\n  </clipPath>\r\n </defs>\r\n</svg>\r\n",
            "image/png": "[encoded data removed]"
          },
          "metadata": {
            "needs_background": "light"
          }
        }
      ]
    },
    {
      "cell_type": "code",
      "execution_count": 13,
      "metadata": {},
      "outputs": [],
      "source": [
        "torch.save(model, './my_mnist_model.pt') "
      ]
    }
  ]
}